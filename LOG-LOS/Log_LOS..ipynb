{
 "cells": [
  {
   "cell_type": "code",
   "execution_count": 1,
   "metadata": {},
   "outputs": [],
   "source": [
    "import numpy as np\n",
    "import pandas as pd\n",
    "\n",
    "\n",
    "import matplotlib.pyplot as plt\n",
    "import seaborn as sns\n",
    "%matplotlib inline"
   ]
  },
  {
   "cell_type": "code",
   "execution_count": 11,
   "metadata": {},
   "outputs": [],
   "source": [
    "X_train=pd.read_csv('X_train.csv')"
   ]
  },
  {
   "cell_type": "code",
   "execution_count": 8,
   "metadata": {},
   "outputs": [],
   "source": [
    "y_train=pd.read_csv('y_train.csv')"
   ]
  },
  {
   "cell_type": "code",
   "execution_count": 59,
   "metadata": {},
   "outputs": [],
   "source": [
    "X_test=pd.read_csv('X_test.csv')\n",
    "y_test=pd.read_csv('y_test.csv')"
   ]
  },
  {
   "cell_type": "code",
   "execution_count": 46,
   "metadata": {},
   "outputs": [],
   "source": [
    "def sigmoid(scores):\n",
    "    return 1 / (1 + np.exp(-scores))\n",
    "\n",
    "def cost_function(X, y, w):\n",
    "    y_=sigmoid(X.dot(w))\n",
    "    ll = -(y*np.log(y_) + (1-y)*np.log(1 - y_)). mean()\n",
    "    return ll\n",
    "\n",
    "def cost_function_L2(X, y, w, C):\n",
    "    #scores = np.dot(X, w)\n",
    "    y_=sigmoid(X.dot(w))\n",
    "    ll = -(y*np.log(y_) + (1-y)*np.log(1 - y_)). mean()+C*np.square(w).mean()\n",
    "    return ll\n",
    "\n",
    "def gradient_descent(X, y, w, alpha, iterations,accuracy):\n",
    "    \n",
    "    cost_history = []\n",
    "    X_=np.column_stack(([1] * len(X), X))\n",
    "    \n",
    "    for iteration in range(iterations):\n",
    "        \n",
    "        #cost=0\n",
    "        scores = np.dot(X_, w)\n",
    "        predictions = sigmoid(scores)\n",
    "        #print(predictions)\n",
    "        output_error_signal = y - predictions\n",
    "        #print(output_error_signal)\n",
    "        gradient = np.dot(X_.T, output_error_signal)\n",
    "        #print(gradient)\n",
    "        w += alpha * gradient \n",
    "        cost = cost_function(X_, y, w)\n",
    "        if cost<accuracy:\n",
    "            break\n",
    "        #cost_history.append(cost)\n",
    "        \n",
    "\n",
    "    return w, cost\n",
    "\n",
    "def gradient_descent_L2(X, y, w, alpha, iterations, accuracy, C):\n",
    "    \n",
    "    cost_history = []\n",
    "    X_=np.column_stack(([1] * len(X), X))\n",
    "    \n",
    "    for iteration in range(iterations):\n",
    "        scores = np.dot(X_, w)\n",
    "        predictions = sigmoid(scores)\n",
    "        output_error_signal = y - predictions\n",
    "        gradient = np.dot(X_.T, output_error_signal)\n",
    "        w += alpha * gradient-alpha*C*w\n",
    "        cost = cost_function_L2(X_, y, w, C)\n",
    "        if cost<accuracy:\n",
    "            break\n",
    "        cost_history.append(cost)   \n",
    "\n",
    "    return w, cost_history"
   ]
  },
  {
   "cell_type": "code",
   "execution_count": 47,
   "metadata": {},
   "outputs": [],
   "source": [
    "w = np.zeros(X_train.shape[1]+1)\n",
    "W=[]\n",
    "C=[]\n",
    "alpha=0.0001\n",
    "iterations=1000\n",
    "accuracy=10**(-5)\n",
    "for i in range(6):\n",
    "    (w, c) = gradient_descent(X_train,y_train.iloc[:,i],w,alpha, iterations,accuracy)\n",
    "    W.append(w)\n",
    "    C.append(c)\n",
    "    "
   ]
  },
  {
   "cell_type": "code",
   "execution_count": 45,
   "metadata": {},
   "outputs": [
    {
     "data": {
      "text/plain": [
       "[array([ -4.59675927,  -8.30820266,  -3.97135075, -12.13016565,\n",
       "         -1.07406671,   3.1869624 , -11.1448267 ,  -6.0748062 ,\n",
       "          5.94676616,  -0.17622968,   5.81051054,  -2.0730478 ,\n",
       "          0.43585775,   8.65166801,  -0.8171753 ,  -5.99462253,\n",
       "         -5.61374914,   3.91051017,   3.15891072,  -1.65567908,\n",
       "          3.59962241]),\n",
       " array([ -4.59675927,  -8.30820266,  -3.97135075, -12.13016565,\n",
       "         -1.07406671,   3.1869624 , -11.1448267 ,  -6.0748062 ,\n",
       "          5.94676616,  -0.17622968,   5.81051054,  -2.0730478 ,\n",
       "          0.43585775,   8.65166801,  -0.8171753 ,  -5.99462253,\n",
       "         -5.61374914,   3.91051017,   3.15891072,  -1.65567908,\n",
       "          3.59962241]),\n",
       " array([ -4.59675927,  -8.30820266,  -3.97135075, -12.13016565,\n",
       "         -1.07406671,   3.1869624 , -11.1448267 ,  -6.0748062 ,\n",
       "          5.94676616,  -0.17622968,   5.81051054,  -2.0730478 ,\n",
       "          0.43585775,   8.65166801,  -0.8171753 ,  -5.99462253,\n",
       "         -5.61374914,   3.91051017,   3.15891072,  -1.65567908,\n",
       "          3.59962241]),\n",
       " array([ -4.59675927,  -8.30820266,  -3.97135075, -12.13016565,\n",
       "         -1.07406671,   3.1869624 , -11.1448267 ,  -6.0748062 ,\n",
       "          5.94676616,  -0.17622968,   5.81051054,  -2.0730478 ,\n",
       "          0.43585775,   8.65166801,  -0.8171753 ,  -5.99462253,\n",
       "         -5.61374914,   3.91051017,   3.15891072,  -1.65567908,\n",
       "          3.59962241]),\n",
       " array([ -4.59675927,  -8.30820266,  -3.97135075, -12.13016565,\n",
       "         -1.07406671,   3.1869624 , -11.1448267 ,  -6.0748062 ,\n",
       "          5.94676616,  -0.17622968,   5.81051054,  -2.0730478 ,\n",
       "          0.43585775,   8.65166801,  -0.8171753 ,  -5.99462253,\n",
       "         -5.61374914,   3.91051017,   3.15891072,  -1.65567908,\n",
       "          3.59962241]),\n",
       " array([ -4.59675927,  -8.30820266,  -3.97135075, -12.13016565,\n",
       "         -1.07406671,   3.1869624 , -11.1448267 ,  -6.0748062 ,\n",
       "          5.94676616,  -0.17622968,   5.81051054,  -2.0730478 ,\n",
       "          0.43585775,   8.65166801,  -0.8171753 ,  -5.99462253,\n",
       "         -5.61374914,   3.91051017,   3.15891072,  -1.65567908,\n",
       "          3.59962241])]"
      ]
     },
     "execution_count": 45,
     "metadata": {},
     "output_type": "execute_result"
    }
   ],
   "source": [
    "W"
   ]
  },
  {
   "cell_type": "code",
   "execution_count": 48,
   "metadata": {},
   "outputs": [
    {
     "data": {
      "text/plain": [
       "[0.20004254960476603,\n",
       " 0.03373119163286488,\n",
       " 0.11329542789342523,\n",
       " 0.020234154210135937,\n",
       " 0.1162730602735874,\n",
       " 0.04174791229780132]"
      ]
     },
     "execution_count": 48,
     "metadata": {},
     "output_type": "execute_result"
    }
   ],
   "source": [
    "C"
   ]
  },
  {
   "cell_type": "code",
   "execution_count": null,
   "metadata": {},
   "outputs": [],
   "source": []
  },
  {
   "cell_type": "code",
   "execution_count": 60,
   "metadata": {},
   "outputs": [
    {
     "data": {
      "text/plain": [
       "[0.3972901894197051,\n",
       " 0.033468590997732216,\n",
       " 0.1984997462248412,\n",
       " 0.021217956479342326,\n",
       " 0.18619004412610382,\n",
       " 0.042256594519688336]"
      ]
     },
     "execution_count": 60,
     "metadata": {},
     "output_type": "execute_result"
    }
   ],
   "source": [
    "answer=[]\n",
    "X_test=np.column_stack(([1] * len(X_test), X_test))\n",
    "for i in range(6):\n",
    "    answer.append(cost_function(X_test, y_test.iloc[:,i], W[i]))\n",
    "answer"
   ]
  },
  {
   "cell_type": "code",
   "execution_count": 63,
   "metadata": {},
   "outputs": [
    {
     "data": {
      "text/plain": [
       "0.1464871869612355"
      ]
     },
     "execution_count": 63,
     "metadata": {},
     "output_type": "execute_result"
    }
   ],
   "source": [
    "np.mean(answer)"
   ]
  },
  {
   "cell_type": "code",
   "execution_count": null,
   "metadata": {},
   "outputs": [],
   "source": []
  }
 ],
 "metadata": {
  "kernelspec": {
   "display_name": "Python 3",
   "language": "python",
   "name": "python3"
  },
  "language_info": {
   "codemirror_mode": {
    "name": "ipython",
    "version": 3
   },
   "file_extension": ".py",
   "mimetype": "text/x-python",
   "name": "python",
   "nbconvert_exporter": "python",
   "pygments_lexer": "ipython3",
   "version": "3.6.8"
  }
 },
 "nbformat": 4,
 "nbformat_minor": 2
}
