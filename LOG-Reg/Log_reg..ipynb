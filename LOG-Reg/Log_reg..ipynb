{
 "cells": [
  {
   "cell_type": "code",
   "execution_count": 1,
   "metadata": {},
   "outputs": [],
   "source": [
    "import numpy as np\n",
    "import pandas as pd\n",
    "\n",
    "\n",
    "import matplotlib.pyplot as plt\n",
    "import seaborn as sns\n",
    "%matplotlib inline"
   ]
  },
  {
   "cell_type": "code",
   "execution_count": 2,
   "metadata": {},
   "outputs": [],
   "source": [
    "df=pd.read_csv('data.csv', header=None)"
   ]
  },
  {
   "cell_type": "code",
   "execution_count": 64,
   "metadata": {},
   "outputs": [
    {
     "data": {
      "text/html": [
       "<div>\n",
       "<style scoped>\n",
       "    .dataframe tbody tr th:only-of-type {\n",
       "        vertical-align: middle;\n",
       "    }\n",
       "\n",
       "    .dataframe tbody tr th {\n",
       "        vertical-align: top;\n",
       "    }\n",
       "\n",
       "    .dataframe thead th {\n",
       "        text-align: right;\n",
       "    }\n",
       "</style>\n",
       "<table border=\"1\" class=\"dataframe\">\n",
       "  <thead>\n",
       "    <tr style=\"text-align: right;\">\n",
       "      <th></th>\n",
       "      <th>0</th>\n",
       "      <th>1</th>\n",
       "      <th>2</th>\n",
       "    </tr>\n",
       "  </thead>\n",
       "  <tbody>\n",
       "    <tr>\n",
       "      <th>0</th>\n",
       "      <td>-1</td>\n",
       "      <td>-0.663827</td>\n",
       "      <td>-0.138526</td>\n",
       "    </tr>\n",
       "    <tr>\n",
       "      <th>1</th>\n",
       "      <td>1</td>\n",
       "      <td>1.994596</td>\n",
       "      <td>2.468025</td>\n",
       "    </tr>\n",
       "    <tr>\n",
       "      <th>2</th>\n",
       "      <td>-1</td>\n",
       "      <td>-1.247395</td>\n",
       "      <td>0.749425</td>\n",
       "    </tr>\n",
       "    <tr>\n",
       "      <th>3</th>\n",
       "      <td>1</td>\n",
       "      <td>2.309374</td>\n",
       "      <td>1.899836</td>\n",
       "    </tr>\n",
       "    <tr>\n",
       "      <th>4</th>\n",
       "      <td>1</td>\n",
       "      <td>0.849143</td>\n",
       "      <td>2.407750</td>\n",
       "    </tr>\n",
       "  </tbody>\n",
       "</table>\n",
       "</div>"
      ],
      "text/plain": [
       "   0         1         2\n",
       "0 -1 -0.663827 -0.138526\n",
       "1  1  1.994596  2.468025\n",
       "2 -1 -1.247395  0.749425\n",
       "3  1  2.309374  1.899836\n",
       "4  1  0.849143  2.407750"
      ]
     },
     "execution_count": 64,
     "metadata": {},
     "output_type": "execute_result"
    }
   ],
   "source": [
    "df.head()"
   ]
  },
  {
   "cell_type": "code",
   "execution_count": 3,
   "metadata": {},
   "outputs": [],
   "source": [
    "y=df[0]"
   ]
  },
  {
   "cell_type": "code",
   "execution_count": 4,
   "metadata": {},
   "outputs": [],
   "source": [
    "X=df.loc[:,[1,2]]"
   ]
  },
  {
   "cell_type": "code",
   "execution_count": 7,
   "metadata": {},
   "outputs": [],
   "source": [
    "def sigmoid(scores):\n",
    "    return 1 / (1 + np.exp(-scores))\n",
    "\n",
    "def cost_function(X, y, w):\n",
    "    y_=sigmoid(X.dot(w))\n",
    "    ll = -(y*np.log(y_) + (1-y)*np.log(1 - y_)). mean()\n",
    "    return ll\n",
    "\n",
    "def cost_function_L2(X, y, w, C):\n",
    "    #scores = np.dot(X, w)\n",
    "    y_=sigmoid(X.dot(w))\n",
    "    ll = -(y*np.log(y_) + (1-y)*np.log(1 - y_)). mean()+C*np.square(w).mean()\n",
    "    return ll\n",
    "\n",
    "def gradient_descent(X, y, w, alpha, iterations,accuracy):\n",
    "    \n",
    "    cost_history = []\n",
    "    X_=np.column_stack(([1] * len(X), X))\n",
    "    \n",
    "    for iteration in range(iterations):\n",
    "        \n",
    "        scores = np.dot(X_, w)\n",
    "        predictions = sigmoid(scores)\n",
    "        #print(predictions)\n",
    "        output_error_signal = y - predictions\n",
    "        #print(output_error_signal)\n",
    "        gradient = np.dot(X_.T, output_error_signal)\n",
    "        #print(gradient)\n",
    "        w += alpha * gradient \n",
    "        cost = cost_function(X_, y, w)\n",
    "        if cost<accuracy:\n",
    "            break\n",
    "        cost_history.append(cost)\n",
    "        \n",
    "\n",
    "    return w, cost_history\n",
    "\n",
    "def gradient_descent_L2(X, y, w, alpha, iterations, accuracy, C):\n",
    "    \n",
    "    cost_history = []\n",
    "    X_=np.column_stack(([1] * len(X), X))\n",
    "    \n",
    "    for iteration in range(iterations):\n",
    "        scores = np.dot(X_, w)\n",
    "        predictions = sigmoid(scores)\n",
    "        output_error_signal = y - predictions\n",
    "        gradient = np.dot(X_.T, output_error_signal)\n",
    "        w += alpha * gradient-alpha*C*w\n",
    "        cost = cost_function_L2(X_, y, w, C)\n",
    "        if cost<accuracy:\n",
    "            break\n",
    "        cost_history.append(cost)   \n",
    "\n",
    "    return w, cost_history"
   ]
  },
  {
   "cell_type": "code",
   "execution_count": 11,
   "metadata": {},
   "outputs": [
    {
     "data": {
      "text/plain": [
       "[0.6839859745965516,\n",
       " 0.675288970280978,\n",
       " 0.6670024822811241,\n",
       " 0.6590766453229556,\n",
       " 0.6514665288092469,\n",
       " 0.644132527884021,\n",
       " 0.6370402627614107,\n",
       " 0.630160190906974,\n",
       " 0.6234670835633512,\n",
       " 0.6169394654718862,\n",
       " 0.6105590752281591,\n",
       " 0.6043103751828118,\n",
       " 0.5981801219738101,\n",
       " 0.5921569985901082,\n",
       " 0.5862313036380387,\n",
       " 0.5803946912429624,\n",
       " 0.574639954462082,\n",
       " 0.5689608453977056,\n",
       " 0.5633519259064782,\n",
       " 0.5578084436337908,\n",
       " 0.5523262289259009,\n",
       " 0.5469016089210031,\n",
       " 0.5415313357709586,\n",
       " 0.536212526495137,\n",
       " 0.5309426124245049,\n",
       " 0.5257192965692946,\n",
       " 0.5205405175497696,\n",
       " 0.5154044189784414,\n",
       " 0.5103093233839342,\n",
       " 0.5052537099302999,\n",
       " 0.5002361953182582,\n",
       " 0.49525551736256124,\n",
       " 0.49031052082727705,\n",
       " 0.485400145172187,\n",
       " 0.48052341392182335,\n",
       " 0.4756794254164508,\n",
       " 0.47086734474354414,\n",
       " 0.46608639668064467,\n",
       " 0.4613358595071855,\n",
       " 0.4566150595650155,\n",
       " 0.4519233664657403,\n",
       " 0.44726018885833463,\n",
       " 0.44262497068330015,\n",
       " 0.43801718785038657,\n",
       " 0.43343634528593317,\n",
       " 0.4288819743035051,\n",
       " 0.42435363025794043,\n",
       " 0.4198508904483882,\n",
       " 0.4153733522405528,\n",
       " 0.4109206313823239,\n",
       " 0.40649236049034326,\n",
       " 0.40208818768795723,\n",
       " 0.3977077753774894,\n",
       " 0.3933507991319004,\n",
       " 0.38901694669275166,\n",
       " 0.38470591706297763,\n",
       " 0.3804174196843551,\n",
       " 0.3761511736907536,\n",
       " 0.3719069072292929,\n",
       " 0.36768435684244377,\n",
       " 0.3634832669048972,\n",
       " 0.35930338910972404,\n",
       " 0.35514448199895265,\n",
       " 0.35100631053422726,\n",
       " 0.3468886457036764,\n",
       " 0.3427912641615394,\n",
       " 0.338713947897457,\n",
       " 0.3346564839326601,\n",
       " 0.33061866404057316,\n",
       " 0.32660028448960304,\n",
       " 0.32260114580610955,\n",
       " 0.31862105255575,\n",
       " 0.3146598131415748,\n",
       " 0.31071723961740155,\n",
       " 0.3067931475151452,\n",
       " 0.30288735568490105,\n",
       " 0.2989996861466962,\n",
       " 0.29512996395292374,\n",
       " 0.29127801706056655,\n",
       " 0.28744367621239936,\n",
       " 0.2836267748264305,\n",
       " 0.2798271488929131,\n",
       " 0.27604463687831277,\n",
       " 0.27227907963567655,\n",
       " 0.26853032032089214,\n",
       " 0.2647982043143748,\n",
       " 0.26108257914775695,\n",
       " 0.2573832944351916,\n",
       " 0.25370020180891606,\n",
       " 0.25003315485874883,\n",
       " 0.2463820090752217,\n",
       " 0.24274662179607512,\n",
       " 0.23912685215586288,\n",
       " 0.23552256103843758,\n",
       " 0.2319336110321049,\n",
       " 0.22835986638724978,\n",
       " 0.2248011929762574,\n",
       " 0.22125745825556228,\n",
       " 0.21772853122967428,\n",
       " 0.21421428241703955,\n",
       " 0.2107145838176104,\n",
       " 0.20722930888200022,\n",
       " 0.2037583324821174,\n",
       " 0.20030153088317393,\n",
       " 0.19685878171697566,\n",
       " 0.19342996395640677,\n",
       " 0.19001495789102865,\n",
       " 0.1866136451037184,\n",
       " 0.1832259084482775,\n",
       " 0.17985163202794852,\n",
       " 0.1764907011747788,\n",
       " 0.1731430024297779,\n",
       " 0.16980842352381698,\n",
       " 0.16648685335922378,\n",
       " 0.16317818199202952,\n",
       " 0.15988230061482595,\n",
       " 0.1565991015401968,\n",
       " 0.15332847818468737,\n",
       " 0.15007032505328008,\n",
       " 0.14682453772434623,\n",
       " 0.14359101283504477,\n",
       " 0.14036964806714416,\n",
       " 0.13716034213324052,\n",
       " 0.1339629947633514,\n",
       " 0.13077750669186328,\n",
       " 0.1276037796448133,\n",
       " 0.12444171632748778,\n",
       " 0.12129122041231932,\n",
       " 0.11815219652706788,\n",
       " 0.11502455024327027,\n",
       " 0.11190818806494507,\n",
       " 0.10880301741753955,\n",
       " 0.10570894663710671,\n",
       " 0.10262588495970228,\n",
       " 0.09955374251098965,\n",
       " 0.09649243029604464,\n",
       " 0.09344186018935013,\n",
       " 0.09040194492497212,\n",
       " 0.08737259808691006,\n",
       " 0.08435373409961305,\n",
       " 0.08134526821865562,\n",
       " 0.07834711652156708,\n",
       " 0.07535919589880719,\n",
       " 0.07238142404488332,\n",
       " 0.06941371944960428,\n",
       " 0.0664560013894645,\n",
       " 0.06350818991915523,\n",
       " 0.060570205863197446,\n",
       " 0.057641970807693496,\n",
       " 0.054723407092192165,\n",
       " 0.051814437801665246,\n",
       " 0.04891498675859072,\n",
       " 0.04602497851514017,\n",
       " 0.043144338345467916,\n",
       " 0.04027299223809801,\n",
       " 0.03741086688840672,\n",
       " 0.034557889691198884,\n",
       " 0.03171398873337445,\n",
       " 0.02887909278668442,\n",
       " 0.02605313130057316,\n",
       " 0.023236034395104705,\n",
       " 0.020427732853972695,\n",
       " 0.017628158117591237,\n",
       " 0.014837242276264132,\n",
       " 0.012054918063433501,\n",
       " 0.009281118849003102,\n",
       " 0.006515778632737377,\n",
       " 0.003758832037733887,\n",
       " 0.001010214303967466]"
      ]
     },
     "execution_count": 11,
     "metadata": {},
     "output_type": "execute_result"
    }
   ],
   "source": [
    "# Задание 1. Градиентный спуск для обычной логистической регрессии без регуляризации\n",
    "w = np.zeros(X.shape[1]+1)\n",
    "alpha=0.0001\n",
    "iterations=1000\n",
    "accuracy=10**(-5)\n",
    "(w, c) = gradient_descent(X,y,w,alpha, iterations,accuracy)\n",
    "c"
   ]
  },
  {
   "cell_type": "code",
   "execution_count": 12,
   "metadata": {},
   "outputs": [
    {
     "data": {
      "text/plain": [
       "<matplotlib.collections.PathCollection at 0x6df92f2550>"
      ]
     },
     "execution_count": 12,
     "metadata": {},
     "output_type": "execute_result"
    },
    {
     "data": {
      "image/png": "[encoded data removed]",
      "text/plain": [
       "<Figure size 432x288 with 1 Axes>"
      ]
     },
     "metadata": {
      "needs_background": "light"
     },
     "output_type": "display_data"
    }
   ],
   "source": [
    "#очень странный график \"1\"  похожий на log-loss\n",
    "plt.scatter(range(len(c)), c)"
   ]
  },
  {
   "cell_type": "code",
   "execution_count": 13,
   "metadata": {},
   "outputs": [
    {
     "data": {
      "text/plain": [
       "[0.611573396780913,\n",
       " 0.552965478640248,\n",
       " 0.5005456679953134,\n",
       " 0.4518196624931043,\n",
       " 0.40596975345723296,\n",
       " 0.36257554487890903,\n",
       " 0.3213559743701784,\n",
       " 0.2820938851391293,\n",
       " 0.24460833887671968,\n",
       " 0.20874257731421095,\n",
       " 0.1743579826678612,\n",
       " 0.1413306248820372,\n",
       " 0.10954903381723781,\n",
       " 0.078912600901076,\n",
       " 0.04933033177242643,\n",
       " 0.020719813088989777]"
      ]
     },
     "execution_count": 13,
     "metadata": {},
     "output_type": "execute_result"
    }
   ],
   "source": [
    "# Задание 1. Градиентный спуск для логистической регрессии с L2 регуляризацией\n",
    "w = np.zeros(X.shape[1]+1)\n",
    "alpha=0.001\n",
    "iterations=1000\n",
    "accuracy=10**(-5)\n",
    "C=0.001\n",
    "(w, c) = gradient_descent_L2(X,y,w,alpha, iterations,accuracy, C)\n",
    "c"
   ]
  },
  {
   "cell_type": "code",
   "execution_count": 14,
   "metadata": {},
   "outputs": [
    {
     "data": {
      "text/plain": [
       "<matplotlib.collections.PathCollection at 0x6df9361c18>"
      ]
     },
     "execution_count": 14,
     "metadata": {},
     "output_type": "execute_result"
    },
    {
     "data": {
      "image/png": "[encoded data removed]",
      "text/plain": [
       "<Figure size 432x288 with 1 Axes>"
      ]
     },
     "metadata": {
      "needs_background": "light"
     },
     "output_type": "display_data"
    }
   ],
   "source": [
    "#очень странный график \"2\", похожий на log-loss\n",
    "plt.scatter(range(len(c)), c)"
   ]
  },
  {
   "cell_type": "markdown",
   "metadata": {},
   "source": [
    "#Задание 2.\n",
    "Алгоритм градиентного спуска в данном случае сходится очень быстро, поэтому размер шага был сильно уменьшен, чтобы не проскочить минимум и на графике было видно как уменьшается ошибка."
   ]
  },
  {
   "cell_type": "code",
   "execution_count": 231,
   "metadata": {},
   "outputs": [
    {
     "data": {
      "text/plain": [
       "[0.10564499116099425,\n",
       " 0.10419427517705995,\n",
       " 0.13898785189419416,\n",
       " 0.14791779685187795,\n",
       " 0.13714240489818813,\n",
       " 0.7525495201629949,\n",
       " 0.43618807498384576,\n",
       " 0.2615048570188954,\n",
       " 0.10835371910014982,\n",
       " 0.4029936308792716,\n",
       " 0.2615048570188954,\n",
       " 0.48346050062283535,\n",
       " 0.16420962049287838,\n",
       " 0.2867864453372199,\n",
       " 0.13856100912996927,\n",
       " 0.23086621485435177,\n",
       " 0.49327384894938525,\n",
       " 0.49523056318611747,\n",
       " 0.794036959056543,\n",
       " 0.5493553422735986]"
      ]
     },
     "execution_count": 231,
     "metadata": {},
     "output_type": "execute_result"
    }
   ],
   "source": [
    "#Задание 3\n",
    "def sigmoid_P(y,X,w,n):\n",
    "    X_=np.column_stack(([1] * len(X), X))\n",
    "    P_history = []\n",
    "    for i in np.random.randint(0,len(y)-1,20):\n",
    "        p=1 / (1 + np.exp(-np.dot(X_[i].T,w)))\n",
    "        P_history.append(p)\n",
    "    return P_history\n",
    "        \n",
    "sigmoid_P(y,X,w,20)\n"
   ]
  },
  {
   "cell_type": "raw",
   "metadata": {},
   "source": [
    "Задание 4.\n",
    "Если делать более длинные шаги, то алгоритм будет сходится быстрее и понадобится меньшее количество итераций, но алгоритм может перепрыгнуть минимум и не прийти к нему."
   ]
  },
  {
   "cell_type": "markdown",
   "metadata": {},
   "source": [
    "Задание 5."
   ]
  },
  {
   "cell_type": "code",
   "execution_count": 29,
   "metadata": {},
   "outputs": [
    {
     "data": {
      "text/plain": [
       "[2.1073613744182627,\n",
       " 2.064539180975494,\n",
       " 2.0218673197321633,\n",
       " 1.979349799492817,\n",
       " 1.9369907992497934,\n",
       " 1.8947946804609206,\n",
       " 1.8527660002927737,\n",
       " 1.8109095258760097,\n",
       " 1.7692302496163537,\n",
       " 1.7277334056010958,\n",
       " 1.686424487136653,\n",
       " 1.645309265448164,\n",
       " 1.604393809567722,\n",
       " 1.563684507434542,\n",
       " 1.523188088229398,\n",
       " 1.4829116459689626,\n",
       " 1.4428626643960376,\n",
       " 1.403049043223027,\n",
       " 1.3634791258241397,\n",
       " 1.3241617285345304,\n",
       " 1.2851061718129473,\n",
       " 1.2463223136735386,\n",
       " 1.2078205860127618,\n",
       " 1.169612034776615,\n",
       " 1.1317083653686715,\n",
       " 1.0941219953394992,\n",
       " 1.0568661172865645,\n",
       " 1.0199547761115626,\n",
       " 0.9834029664293021,\n",
       " 0.9472267581168988,\n",
       " 0.9114434608629243,\n",
       " 0.8760718422434408,\n",
       " 0.8411324183848384,\n",
       " 0.8066478416107449,\n",
       " 0.7726434152808511,\n",
       " 0.7391477714921854,\n",
       " 0.7061937508069844,\n",
       " 0.6738195219112663,\n",
       " 0.642069968857358,\n",
       " 0.6109983486252624,\n",
       " 0.580668175480575,\n",
       " 0.5511552135004351,\n",
       " 0.5225493431237997,\n",
       " 0.4949558834812786,\n",
       " 0.4684956320779051,\n",
       " 0.4433023243837307,\n",
       " 0.4195154376963271,\n",
       " 0.3972658749394339,\n",
       " 0.3766537090312262,\n",
       " 0.3577224042012945,\n",
       " 0.34044047874794786,\n",
       " 0.3247019424815314,\n",
       " 0.31034691461153535,\n",
       " 0.29719185151482846,\n",
       " 0.2850561771373786,\n",
       " 0.27377854779218885,\n",
       " 0.2632231566551918,\n",
       " 0.2532796128146152,\n",
       " 0.24385978640984504,\n",
       " 0.23489377966348668,\n",
       " 0.22632608961091114,\n",
       " 0.2181123597340911,\n",
       " 0.21021678660935744,\n",
       " 0.2026101128536103,\n",
       " 0.19526809907683682,\n",
       " 0.1881703697582107,\n",
       " 0.18129954411841653,\n",
       " 0.1746405815522891,\n",
       " 0.16818028768025198,\n",
       " 0.16190694042618625,\n",
       " 0.15581000583636045,\n",
       " 0.14987992112060852,\n",
       " 0.14410792817694382,\n",
       " 0.138485945138358,\n",
       " 0.1330064666414285,\n",
       " 0.127662485854317,\n",
       " 0.12244743303527658,\n",
       " 0.11735512668239151,\n",
       " 0.11237973429820834,\n",
       " 0.1075157405146825,\n",
       " 0.10275792086689438,\n",
       " 0.09810131991398376,\n",
       " 0.09354123271628637,\n",
       " 0.08907318891350761,\n",
       " 0.08469293882831509,\n",
       " 0.08039644115664647,\n",
       " 0.07617985191057686,\n",
       " 0.07203951435945843,\n",
       " 0.06797194977607095,\n",
       " 0.0639738488411182,\n",
       " 0.06004206359493383,\n",
       " 0.05617359985229661,\n",
       " 0.052365610016769495,\n",
       " 0.04861538624648207,\n",
       " 0.044920353934938984,\n",
       " 0.04127806547915918,\n",
       " 0.037686194313925,\n",
       " 0.03414252919568235,\n",
       " 0.030644968723096407,\n",
       " 0.02719151608375887,\n",
       " 0.023780274018292406,\n",
       " 0.02040943999431642,\n",
       " 0.017077301583548997,\n",
       " 0.013782232035852122,\n",
       " 0.010522686044349253,\n",
       " 0.007297195695931341,\n",
       " 0.004104366601560875,\n",
       " 0.0009428742008174522]"
      ]
     },
     "execution_count": 29,
     "metadata": {},
     "output_type": "execute_result"
    }
   ],
   "source": [
    "#Задание 5.\n",
    "w = [-1,-1,-1]\n",
    "alpha=0.0001\n",
    "iterations=1000\n",
    "accuracy=10**(-5)\n",
    "(w, c) = gradient_descent(X,y,w,alpha, iterations,accuracy)\n",
    "c"
   ]
  },
  {
   "cell_type": "code",
   "execution_count": 30,
   "metadata": {},
   "outputs": [
    {
     "data": {
      "text/plain": [
       "<matplotlib.collections.PathCollection at 0x6df952c240>"
      ]
     },
     "execution_count": 30,
     "metadata": {},
     "output_type": "execute_result"
    },
    {
     "data": {
      "image/png": "[encoded data removed]",
      "text/plain": [
       "<Figure size 432x288 with 1 Axes>"
      ]
     },
     "metadata": {
      "needs_background": "light"
     },
     "output_type": "display_data"
    }
   ],
   "source": [
    "plt.scatter(range(len(c)), c)"
   ]
  },
  {
   "cell_type": "markdown",
   "metadata": {},
   "source": [
    "Начальное приближение весов влияет на сходимость алгоритма и на его скорость. Можно так неудачно выбрать начальное приближение, что алгоритм перестаёт сходится, но если перепробовать различные шаги, то получить хорошую сходимость.\n",
    "Можно по-разному инициализировать начальное приближение(например случайно), но в большинстве источников рекомендуют начинать именно с нулевого."
   ]
  }
 ],
 "metadata": {
  "kernelspec": {
   "display_name": "Python 3",
   "language": "python",
   "name": "python3"
  },
  "language_info": {
   "codemirror_mode": {
    "name": "ipython",
    "version": 3
   },
   "file_extension": ".py",
   "mimetype": "text/x-python",
   "name": "python",
   "nbconvert_exporter": "python",
   "pygments_lexer": "ipython3",
   "version": "3.6.8"
  }
 },
 "nbformat": 4,
 "nbformat_minor": 2
}
